{
 "cells": [
  {
   "cell_type": "markdown",
   "metadata": {},
   "source": [
    "# Auto Summarization of Text/Article using Natural Language Processing"
   ]
  },
  {
   "cell_type": "markdown",
   "metadata": {},
   "source": [
    "## Import Libraries"
   ]
  },
  {
   "cell_type": "code",
   "execution_count": 1,
   "metadata": {},
   "outputs": [],
   "source": [
    "import urllib2"
   ]
  },
  {
   "cell_type": "code",
   "execution_count": 2,
   "metadata": {},
   "outputs": [],
   "source": [
    "from bs4 import BeautifulSoup\n",
    "from nltk.tokenize import sent_tokenize, word_tokenize\n",
    "from nltk.corpus import stopwords\n",
    "from string import punctuation\n",
    "from heapq import nlargest\n",
    "from nltk.probability import FreqDist\n",
    "from collections import defaultdict"
   ]
  },
  {
   "cell_type": "markdown",
   "metadata": {},
   "source": [
    "## Extract Data"
   ]
  },
  {
   "cell_type": "markdown",
   "metadata": {},
   "source": [
    "The function below takes an input url to the articles , and extracts utf-8 encoding in lxml format."
   ]
  },
  {
   "cell_type": "code",
   "execution_count": 16,
   "metadata": {},
   "outputs": [],
   "source": [
    "def get_text_from_url(article_url):\n",
    "    page = urllib2.urlopen(article_url).read().decode('utf8', 'ignore')\n",
    "    soup = BeautifulSoup(page, 'lxml')\n",
    "    #print(soup.find('article').text)\n",
    "    joined_text = ' '.join(map(lambda p: p.text, soup.find_all('article')))\n",
    "    return joined_text.encode('ascii', errors='replace').replace(\"?\", \" \")"
   ]
  },
  {
   "cell_type": "markdown",
   "metadata": {},
   "source": [
    "I am using an WashingtonPost article to summarize, firstly tokenizing the sentence using sent_tokenize and then tokenizing the words using word_tokenize."
   ]
  },
  {
   "cell_type": "code",
   "execution_count": 20,
   "metadata": {},
   "outputs": [],
   "source": [
    "sample_url = \"https://www.washingtonpost.com/powerpost/devin-nunes-targeting-mueller-and-the-fbi-alarms-democrats-and-some-republicans-with-his-tactics/2017/12/30/b8181ebc-eb02-11e7-9f92-10a2203f6c8d_story.html?hpid=hp_hp-top-table-main_nunes-752am%3Ahomepage%2Fstory&utm_term=.f1c7e28204ee\"\n",
    "text = get_text_from_url(sample_url)\n",
    "sents = sent_tokenize(text)\n",
    "word_sent = word_tokenize(text.lower())"
   ]
  },
  {
   "cell_type": "markdown",
   "metadata": {},
   "source": [
    "Removing English stopwords and punctuations because they are irrelevant while creating the frequency distributions of the words."
   ]
  },
  {
   "cell_type": "code",
   "execution_count": 21,
   "metadata": {},
   "outputs": [],
   "source": [
    "_stopwords = set(stopwords.words('english')+list(punctuation))\n",
    "word_sent=[word for word in word_sent if word not in _stopwords]"
   ]
  },
  {
   "cell_type": "markdown",
   "metadata": {},
   "source": [
    "## Frequency Distribution"
   ]
  },
  {
   "cell_type": "markdown",
   "metadata": {},
   "source": [
    "Based on the frequency list of the words, let us see the 10 most frequent/significant words in the article."
   ]
  },
  {
   "cell_type": "code",
   "execution_count": 22,
   "metadata": {},
   "outputs": [
    {
     "name": "stdout",
     "output_type": "stream",
     "text": [
      "['nunes', 'committee', 'probe', 'intelligence', 'house', 'trump', 'russia', 'said', 'investigation', 'democrats']\n"
     ]
    }
   ],
   "source": [
    "freq = FreqDist(word_sent)\n",
    "print nlargest(10, freq, key=freq.get)\n",
    "\n",
    "ranking = defaultdict(int)"
   ]
  },
  {
   "cell_type": "markdown",
   "metadata": {},
   "source": [
    "Now, for each sentence, calculating the frequency score based on the words present in it. Let us see the scores of top such 4 sentences."
   ]
  },
  {
   "cell_type": "code",
   "execution_count": 34,
   "metadata": {},
   "outputs": [
    {
     "name": "stdout",
     "output_type": "stream",
     "text": [
      "[36, 11, 9, 0]\n"
     ]
    }
   ],
   "source": [
    "for i, sent in enumerate(sents):\n",
    "    for w in word_tokenize(sent.lower()):\n",
    "        if w in freq:\n",
    "            ranking[i] += freq[w]\n",
    "\n",
    "sents_index = nlargest(4, ranking, ranking.get)\n",
    "print sorted(sents_index, reverse=True)"
   ]
  },
  {
   "cell_type": "markdown",
   "metadata": {},
   "source": [
    "## Summarization"
   ]
  },
  {
   "cell_type": "markdown",
   "metadata": {},
   "source": [
    "Now, we can get the summary of the text with top 4 most significant sentences."
   ]
  },
  {
   "cell_type": "code",
   "execution_count": 35,
   "metadata": {},
   "outputs": [
    {
     "name": "stdout",
     "output_type": "stream",
     "text": [
      "Summarized Text: ['       Rep. Devin Nunes, once sidelined by an ethics inquiry from leading the House Intelligence Committee s Russia probe, is reasserting the full authority of his position as chairman just as the GOP appears poised to challenge special counsel Robert S. Mueller III s investigation of possible coordination between the Trump campaign and Russian officials.', 'Gowdy, a member of the Intelligence panel who also chairs the House Committee on Oversight and Government Reform, suggested that Nunes has taken some of these steps without the express blessing of House Speaker Paul D. Ryan (R-Wis.),who has been involved in crafting the GOP s multipronged approach to examining a string of allegations from Russian election interference to alleged mismanagement at the nation s top law enforcement agencies.', 'But Nunes s moves coincide with what Democrats say is a coordinated GOP effort to shutter the House Intelligence Committee s Russia probe, publicly absolve President Trump of the most serious allegations against him, and refocus the House s resources against the law enforcement officials, such as Mueller, who continue to investigate Trump.', 'If there is one aspect of the Russia probe that seems destined to outlast the House Intelligence Committee s preferred timeline, it is Nunes s investigation of Fusion GPS, the firm behind a dossier detailing Trump s alleged connections to Russian officials, financiers and exploits in Moscow.']\n"
     ]
    }
   ],
   "source": [
    "print \"Summarized Text: {}\".format([sents[j] for j in sorted(sents_index)])"
   ]
  },
  {
   "cell_type": "markdown",
   "metadata": {},
   "source": [
    "The above process has lot of practical applications. We can use any post to summarize, the extraction may differ based on the encoding of the document."
   ]
  }
 ],
 "metadata": {
  "kernelspec": {
   "display_name": "Python 2",
   "language": "python",
   "name": "python2"
  },
  "language_info": {
   "codemirror_mode": {
    "name": "ipython",
    "version": 2
   },
   "file_extension": ".py",
   "mimetype": "text/x-python",
   "name": "python",
   "nbconvert_exporter": "python",
   "pygments_lexer": "ipython2",
   "version": "2.7.6"
  }
 },
 "nbformat": 4,
 "nbformat_minor": 2
}
